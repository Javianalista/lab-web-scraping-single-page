{
 "cells": [
  {
   "cell_type": "code",
   "execution_count": 2,
   "id": "80fc3f39-f34c-481f-b7e0-01a254bbbfd6",
   "metadata": {},
   "outputs": [],
   "source": [
    "from bs4 import BeautifulSoup\n",
    "import requests\n",
    "import pandas as pd"
   ]
  },
  {
   "cell_type": "markdown",
   "id": "f38194cb-44a6-42e3-a004-e81b7b1d39a6",
   "metadata": {},
   "source": [
    "## Obtaining the web page"
   ]
  },
  {
   "cell_type": "code",
   "execution_count": 3,
   "id": "f4cab5e9-aa76-42a6-9773-ac5a61aa8135",
   "metadata": {},
   "outputs": [],
   "source": [
    "url = 'https://www.billboard.com/charts/hot-100'"
   ]
  },
  {
   "cell_type": "code",
   "execution_count": 4,
   "id": "c89adeee-aff2-4549-a8e0-9c0a2be780c5",
   "metadata": {},
   "outputs": [
    {
     "data": {
      "text/plain": [
       "200"
      ]
     },
     "execution_count": 4,
     "metadata": {},
     "output_type": "execute_result"
    }
   ],
   "source": [
    "response = requests.get(url)\n",
    "response.status_code"
   ]
  },
  {
   "cell_type": "code",
   "execution_count": 5,
   "id": "61a22313-9ea3-4c59-8724-2342e4bd9476",
   "metadata": {},
   "outputs": [],
   "source": [
    "soup = BeautifulSoup(response.content, \"html.parser\")"
   ]
  },
  {
   "cell_type": "markdown",
   "id": "6137e7fd-ce96-4c0d-8faa-99b1b62bc81d",
   "metadata": {},
   "source": [
    "## Creating the dataframe"
   ]
  },
  {
   "cell_type": "code",
   "execution_count": 119,
   "id": "6f00ed2c-4a3e-4510-ab82-6025dc45cc75",
   "metadata": {},
   "outputs": [],
   "source": [
    "titles = []\n",
    "for title in soup.select(\"h3\")[4:104]:\n",
    "    titles.append(title.get_text().strip())"
   ]
  },
  {
   "cell_type": "code",
   "execution_count": 126,
   "id": "9eb10197-001a-408a-a426-f9b684d497bc",
   "metadata": {},
   "outputs": [],
   "source": [
    "artists = []\n",
    "for artist in soup.select(\"li.o-chart-results-list__item.\\/\\/.lrv-u-flex-grow-1.lrv-u-flex.lrv-u-flex-direction-column.lrv-u-justify-content-center.lrv-u-border-b-1.u-border-b-0\\@mobile-max.lrv-u-border-color-grey-light.lrv-u-padding-l-1\\@mobile-max > span\"):\n",
    "    artists.append(artist.get_text().strip())"
   ]
  },
  {
   "cell_type": "code",
   "execution_count": 127,
   "id": "2ed52907-050a-44a5-9512-51bc9b9ee6cb",
   "metadata": {},
   "outputs": [
    {
     "data": {
      "text/plain": [
       "['Adele',\n",
       " 'The Kid LAROI & Justin Bieber',\n",
       " 'Lil Nas X & Jack Harlow',\n",
       " 'Ed Sheeran',\n",
       " 'Ed Sheeran',\n",
       " 'Post Malone & The Weeknd',\n",
       " 'Walker Hayes',\n",
       " 'Silk Sonic (Bruno Mars & Anderson .Paak)',\n",
       " 'Doja Cat',\n",
       " 'Glass Animals',\n",
       " 'Travis Scott',\n",
       " 'Drake Featuring Future & Young Thug',\n",
       " 'Summer Walker & SZA',\n",
       " 'Elton John & Dua Lipa',\n",
       " 'Olivia Rodrigo',\n",
       " 'Wizkid Featuring Justin Bieber & Tems',\n",
       " 'Maneskin',\n",
       " 'Dua Lipa',\n",
       " 'Doja Cat & The Weeknd',\n",
       " 'Doja Cat Featuring SZA',\n",
       " 'Jason Aldean & Carrie Underwood',\n",
       " 'The Weeknd & Ariana Grande',\n",
       " 'Drake Featuring 21 Savage & Project Pat',\n",
       " 'Ryan Hurd With Maren Morris',\n",
       " 'Summer Walker & Cardi B',\n",
       " 'Travis Scott',\n",
       " 'THE ANXIETY: WILLOW & Tyler Cole',\n",
       " 'Drake Featuring Lil Baby',\n",
       " 'NEIKED X Mae Muller X Polo G',\n",
       " 'Jordan Davis Featuring Luke Bryan',\n",
       " 'Billie Eilish',\n",
       " 'CKay',\n",
       " 'Summer Walker & JT',\n",
       " 'Olivia Rodrigo',\n",
       " 'Nardo Wick Featuring G Herbo, Lil Durk & 21 Savage',\n",
       " 'Justin Bieber',\n",
       " 'Farruko',\n",
       " 'Lil Nas X',\n",
       " 'Luke Combs',\n",
       " 'Dustin Lynch Featuring Lauren Alaina Or MacKenzie Porter',\n",
       " 'Summer Walker',\n",
       " 'Lil Nas X',\n",
       " 'Coldplay x BTS',\n",
       " 'Summer Walker',\n",
       " 'Summer Walker Featuring Lil Durk',\n",
       " 'Silk Sonic (Bruno Mars & Anderson .Paak)',\n",
       " 'Chris Stapleton',\n",
       " 'Summer Walker & Ari Lennox',\n",
       " 'Summer Walker',\n",
       " 'Summer Walker',\n",
       " 'Zac Brown Band',\n",
       " 'Summer Walker',\n",
       " 'Normani Featuring Cardi B',\n",
       " 'Summer Walker',\n",
       " 'Chloe',\n",
       " 'Summer Walker',\n",
       " 'Baby Keem & Kendrick Lamar',\n",
       " 'Capella Grey',\n",
       " 'Summer Walker',\n",
       " 'Summer Walker',\n",
       " 'Blxst & Tyga Featuring Ty Dolla $ign',\n",
       " 'Meek Mill Featuring Lil Baby & Lil Durk',\n",
       " 'Kane Brown',\n",
       " 'Old Dominion',\n",
       " 'Kane Brown X blackbear',\n",
       " 'Drake Featuring Travis Scott',\n",
       " 'Kenny Chesney',\n",
       " 'Summer Walker',\n",
       " 'Morgan Wallen',\n",
       " 'The Weeknd',\n",
       " 'Swedish House Mafia & The Weeknd',\n",
       " 'Tai Verdes',\n",
       " 'Summer Walker & Omarion',\n",
       " 'Young Thug With Drake & Travis Scott',\n",
       " 'Michael Ray',\n",
       " 'Summer Walker',\n",
       " 'Summer Walker, Pharrell Williams & The Neptunes',\n",
       " 'Jon Pardi',\n",
       " 'Lee Brice',\n",
       " 'Amaarae & Moliy Featuring Kali Uchis',\n",
       " 'Thomas Rhett',\n",
       " 'Cody Johnson',\n",
       " 'Doja Cat',\n",
       " 'Jimmie Allen & Brad Paisley',\n",
       " 'Ed Sheeran',\n",
       " 'Latto',\n",
       " 'Kanye West',\n",
       " 'Jameson Rodgers Featuring Luke Combs',\n",
       " 'NLE Choppa Featuring Polo G',\n",
       " 'Yung Bleu, Chris Brown & 2 Chainz',\n",
       " 'Eslabon Armado Featuring DannyLux',\n",
       " 'Giveon',\n",
       " '42 Dugg Featuring Future',\n",
       " 'Gunna & Future',\n",
       " 'Aventura x Bad Bunny',\n",
       " 'Kanye West',\n",
       " 'Kodak Black',\n",
       " 'Wale Featuring J. Cole',\n",
       " 'Kelsea Ballerini Featuring Kenny Chesney',\n",
       " 'Sleepy Hallow']"
      ]
     },
     "execution_count": 127,
     "metadata": {},
     "output_type": "execute_result"
    }
   ],
   "source": [
    "artists"
   ]
  },
  {
   "cell_type": "code",
   "execution_count": 129,
   "id": "c5e8b855-5fab-476c-bb08-6353c6f88968",
   "metadata": {},
   "outputs": [
    {
     "data": {
      "text/html": [
       "<div>\n",
       "<style scoped>\n",
       "    .dataframe tbody tr th:only-of-type {\n",
       "        vertical-align: middle;\n",
       "    }\n",
       "\n",
       "    .dataframe tbody tr th {\n",
       "        vertical-align: top;\n",
       "    }\n",
       "\n",
       "    .dataframe thead th {\n",
       "        text-align: right;\n",
       "    }\n",
       "</style>\n",
       "<table border=\"1\" class=\"dataframe\">\n",
       "  <thead>\n",
       "    <tr style=\"text-align: right;\">\n",
       "      <th></th>\n",
       "      <th>artist</th>\n",
       "      <th>song</th>\n",
       "    </tr>\n",
       "  </thead>\n",
       "  <tbody>\n",
       "    <tr>\n",
       "      <th>0</th>\n",
       "      <td>Adele</td>\n",
       "      <td>Easy On Me</td>\n",
       "    </tr>\n",
       "    <tr>\n",
       "      <th>1</th>\n",
       "      <td>The Kid LAROI &amp; Justin Bieber</td>\n",
       "      <td>Stay</td>\n",
       "    </tr>\n",
       "    <tr>\n",
       "      <th>2</th>\n",
       "      <td>Lil Nas X &amp; Jack Harlow</td>\n",
       "      <td>Industry Baby</td>\n",
       "    </tr>\n",
       "    <tr>\n",
       "      <th>3</th>\n",
       "      <td>Ed Sheeran</td>\n",
       "      <td>Bad Habits</td>\n",
       "    </tr>\n",
       "    <tr>\n",
       "      <th>4</th>\n",
       "      <td>Ed Sheeran</td>\n",
       "      <td>Shivers</td>\n",
       "    </tr>\n",
       "    <tr>\n",
       "      <th>...</th>\n",
       "      <td>...</td>\n",
       "      <td>...</td>\n",
       "    </tr>\n",
       "    <tr>\n",
       "      <th>95</th>\n",
       "      <td>Kanye West</td>\n",
       "      <td>Praise God</td>\n",
       "    </tr>\n",
       "    <tr>\n",
       "      <th>96</th>\n",
       "      <td>Kodak Black</td>\n",
       "      <td>Super Gremlin</td>\n",
       "    </tr>\n",
       "    <tr>\n",
       "      <th>97</th>\n",
       "      <td>Wale Featuring J. Cole</td>\n",
       "      <td>Poke It Out</td>\n",
       "    </tr>\n",
       "    <tr>\n",
       "      <th>98</th>\n",
       "      <td>Kelsea Ballerini Featuring Kenny Chesney</td>\n",
       "      <td>Half Of My Hometown</td>\n",
       "    </tr>\n",
       "    <tr>\n",
       "      <th>99</th>\n",
       "      <td>Sleepy Hallow</td>\n",
       "      <td>2055</td>\n",
       "    </tr>\n",
       "  </tbody>\n",
       "</table>\n",
       "<p>100 rows × 2 columns</p>\n",
       "</div>"
      ],
      "text/plain": [
       "                                      artist                 song\n",
       "0                                      Adele           Easy On Me\n",
       "1              The Kid LAROI & Justin Bieber                 Stay\n",
       "2                    Lil Nas X & Jack Harlow        Industry Baby\n",
       "3                                 Ed Sheeran           Bad Habits\n",
       "4                                 Ed Sheeran              Shivers\n",
       "..                                       ...                  ...\n",
       "95                                Kanye West           Praise God\n",
       "96                               Kodak Black        Super Gremlin\n",
       "97                    Wale Featuring J. Cole          Poke It Out\n",
       "98  Kelsea Ballerini Featuring Kenny Chesney  Half Of My Hometown\n",
       "99                             Sleepy Hallow                 2055\n",
       "\n",
       "[100 rows x 2 columns]"
      ]
     },
     "execution_count": 129,
     "metadata": {},
     "output_type": "execute_result"
    }
   ],
   "source": [
    "top_100 = pd.DataFrame({\"artist\": artists, \"song\": titles})\n",
    "top_100"
   ]
  },
  {
   "cell_type": "code",
   "execution_count": null,
   "id": "09dc2672-21eb-43dd-9ae8-2b465d8b77b8",
   "metadata": {},
   "outputs": [],
   "source": []
  }
 ],
 "metadata": {
  "kernelspec": {
   "display_name": "Python 3",
   "language": "python",
   "name": "python3"
  },
  "language_info": {
   "codemirror_mode": {
    "name": "ipython",
    "version": 3
   },
   "file_extension": ".py",
   "mimetype": "text/x-python",
   "name": "python",
   "nbconvert_exporter": "python",
   "pygments_lexer": "ipython3",
   "version": "3.8.8"
  }
 },
 "nbformat": 4,
 "nbformat_minor": 5
}
