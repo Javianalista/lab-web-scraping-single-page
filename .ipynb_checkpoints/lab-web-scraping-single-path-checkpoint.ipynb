{
 "cells": [
  {
   "cell_type": "code",
   "execution_count": 2,
   "id": "80fc3f39-f34c-481f-b7e0-01a254bbbfd6",
   "metadata": {},
   "outputs": [],
   "source": [
    "from bs4 import BeautifulSoup\n",
    "import requests\n",
    "import pandas as pd"
   ]
  },
  {
   "cell_type": "markdown",
   "id": "f38194cb-44a6-42e3-a004-e81b7b1d39a6",
   "metadata": {},
   "source": [
    "## Obtaining the web page"
   ]
  },
  {
   "cell_type": "code",
   "execution_count": 3,
   "id": "f4cab5e9-aa76-42a6-9773-ac5a61aa8135",
   "metadata": {},
   "outputs": [],
   "source": [
    "url = 'https://www.billboard.com/charts/hot-100'"
   ]
  },
  {
   "cell_type": "code",
   "execution_count": 4,
   "id": "c89adeee-aff2-4549-a8e0-9c0a2be780c5",
   "metadata": {},
   "outputs": [
    {
     "data": {
      "text/plain": [
       "200"
      ]
     },
     "execution_count": 4,
     "metadata": {},
     "output_type": "execute_result"
    }
   ],
   "source": [
    "response = requests.get(url)\n",
    "response.status_code"
   ]
  },
  {
   "cell_type": "code",
   "execution_count": 5,
   "id": "61a22313-9ea3-4c59-8724-2342e4bd9476",
   "metadata": {},
   "outputs": [],
   "source": [
    "soup = BeautifulSoup(response.content, \"html.parser\")"
   ]
  },
  {
   "cell_type": "code",
   "execution_count": null,
   "id": "543e1c8e-80c4-4dd0-8e2b-c325cdad4671",
   "metadata": {},
   "outputs": [],
   "source": [
    "#post-1479786 > div.pmc-paywall > div > div > div > div.chart-results-list.\\/\\/.lrv-u-padding-t-150.lrv-u-padding-t-050\\@mobile-max"
   ]
  },
  {
   "cell_type": "code",
   "execution_count": null,
   "id": "8f7390e8-d9ec-4031-8f13-4f053706a931",
   "metadata": {},
   "outputs": [],
   "source": []
  },
  {
   "cell_type": "code",
   "execution_count": null,
   "id": "594e1b34-7fa1-4c1d-8de3-7837226d609b",
   "metadata": {},
   "outputs": [],
   "source": [
    "title = []\n",
    "dir_stars = []\n",
    "year = []"
   ]
  },
  {
   "cell_type": "code",
   "execution_count": 10,
   "id": "e9726e81-1641-4a1d-88b1-86a8b2849cad",
   "metadata": {},
   "outputs": [],
   "source": [
    "num_iter = len(soup.select(\"td.titleColumn a\"))"
   ]
  },
  {
   "cell_type": "code",
   "execution_count": null,
   "id": "03964550-cfe3-4eb8-9d36-e5219e25252e",
   "metadata": {},
   "outputs": [],
   "source": [
    "for i in range(num_iter):\n",
    "    title.append(soup.select(\"td.titleColumn a\")[i].get_text())\n",
    "    dir_stars.append(soup.select(\"td.titleColumn a\")[i][\"title\"])\n",
    "    year.append(soup.select(\"td.titleColumn span.secondaryInfo\")[i].get_text())"
   ]
  }
 ],
 "metadata": {
  "kernelspec": {
   "display_name": "Python 3",
   "language": "python",
   "name": "python3"
  },
  "language_info": {
   "codemirror_mode": {
    "name": "ipython",
    "version": 3
   },
   "file_extension": ".py",
   "mimetype": "text/x-python",
   "name": "python",
   "nbconvert_exporter": "python",
   "pygments_lexer": "ipython3",
   "version": "3.8.8"
  }
 },
 "nbformat": 4,
 "nbformat_minor": 5
}
